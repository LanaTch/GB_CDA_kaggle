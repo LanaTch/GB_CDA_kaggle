{
 "cells": [
  {
   "cell_type": "markdown",
   "metadata": {},
   "source": [
    "## Отбор признаков, обучение модели, предсказание и оценка на лидерборд"
   ]
  },
  {
   "cell_type": "code",
   "execution_count": 5,
   "metadata": {},
   "outputs": [],
   "source": [
    "import numpy as np\n",
    "import pandas as pd\n",
    "import matplotlib as mpl\n",
    "import matplotlib.pyplot as plt\n",
    "\n",
    "from utils import create_client_profile_features, get_input, one_hot_encode, calculate_feature_separating_ability, lightgbm_cross_validation\n",
    "\n",
    "from sklearn.metrics import roc_auc_score\n",
    "from sklearn.model_selection import KFold, StratifiedKFold"
   ]
  },
  {
   "cell_type": "code",
   "execution_count": 49,
   "metadata": {},
   "outputs": [],
   "source": [
    "from datetime import timedelta, datetime, date"
   ]
  },
  {
   "cell_type": "markdown",
   "metadata": {},
   "source": [
    "### загрузка предварительно подготовленных датасетов с признаками"
   ]
  },
  {
   "cell_type": "code",
   "execution_count": 8,
   "metadata": {
    "scrolled": true
   },
   "outputs": [
    {
     "name": "stdout",
     "output_type": "stream",
     "text": [
      "../data/history_prep.csv: shape = 1670214 rows, 89 cols\n",
      "../data/bki_prep.csv: shape = 945234 rows, 36 cols\n",
      "../data/client_prep.csv: shape = 250000 rows, 59 cols\n",
      "../data/payments_prep.csv: shape = 1023932 rows, 8 cols\n",
      "../data/app_prev_number.csv: shape = 338857 rows, 2 cols\n"
     ]
    }
   ],
   "source": [
    "history = get_input('../data/history_prep.csv')\n",
    "bki = get_input('../data/bki_prep.csv')\n",
    "client_profile = get_input('../data/client_prep.csv')\n",
    "payments = get_input('../data/payments_prep.csv')\n",
    "prev_count = get_input('../data/app_prev_number.csv')"
   ]
  },
  {
   "cell_type": "code",
   "execution_count": 17,
   "metadata": {},
   "outputs": [],
   "source": [
    "history = history.sort_values(by=\"application_number\").drop_duplicates(subset=[\"application_number\"], keep=\"last\")\n",
    "bki = bki.sort_values(by=\"application_number\").drop_duplicates(subset=[\"application_number\"], keep=\"last\")\n",
    "payments = payments.sort_values(by=\"application_number\").drop_duplicates(subset=[\"application_number\"], keep=\"last\")"
   ]
  },
  {
   "cell_type": "markdown",
   "metadata": {},
   "source": [
    "### подготовка  train, test"
   ]
  },
  {
   "cell_type": "code",
   "execution_count": 18,
   "metadata": {
    "scrolled": true
   },
   "outputs": [
    {
     "name": "stdout",
     "output_type": "stream",
     "text": [
      "../data/train.csv: shape = 110093 rows, 3 cols\n",
      "../data/test.csv: shape = 165141 rows, 2 cols\n"
     ]
    }
   ],
   "source": [
    "#загрузка исходных данных\n",
    "train = get_input(\"../data/train.csv\")\n",
    "test = get_input(\"../data/test.csv\")\n",
    "\n",
    "#объединение для добавления признаков\n",
    "data = pd.concat([train, test], axis=0)\n",
    "data = data.reset_index(drop=True)"
   ]
  },
  {
   "cell_type": "code",
   "execution_count": 19,
   "metadata": {},
   "outputs": [
    {
     "data": {
      "text/plain": [
       "(275234, 3)"
      ]
     },
     "execution_count": 19,
     "metadata": {},
     "output_type": "execute_result"
    }
   ],
   "source": [
    "data.shape"
   ]
  },
  {
   "cell_type": "code",
   "execution_count": 20,
   "metadata": {},
   "outputs": [],
   "source": [
    "#добавление признаков\n",
    "data = data.merge(client_profile, on='application_number', how='left') \\\n",
    "           .merge(payments, on='application_number', how='left') \\\n",
    "           .merge(bki, on='application_number', how='left') \\\n",
    "           .merge(prev_count, on='application_number', how='left')"
   ]
  },
  {
   "cell_type": "code",
   "execution_count": 21,
   "metadata": {},
   "outputs": [],
   "source": [
    "#\n",
    "data = one_hot_encode(data)"
   ]
  },
  {
   "cell_type": "code",
   "execution_count": 22,
   "metadata": {},
   "outputs": [
    {
     "data": {
      "text/plain": [
       "(275234, 105)"
      ]
     },
     "execution_count": 22,
     "metadata": {},
     "output_type": "execute_result"
    }
   ],
   "source": [
    "data.shape"
   ]
  },
  {
   "cell_type": "code",
   "execution_count": 23,
   "metadata": {},
   "outputs": [],
   "source": [
    "#разбиение обратно на train, test\n",
    "mask = data[\"target\"].isnull()\n",
    "features_to_drop = [\"application_number\", \"target\"]\n",
    "\n",
    "train, test = data.loc[~mask], data.loc[mask]\n",
    "\n",
    "target, test_id = train[\"target\"], test[\"application_number\"]\n",
    "train = train.drop(features_to_drop, axis=1)\n",
    "test = test.drop(features_to_drop, axis=1)\n",
    "\n",
    "categorial = train.dtypes[train.dtypes == \"object\"].index\n",
    "numerical = list(set(train.columns) - set(categorial))\n",
    "\n",
    "train = train.replace(np.inf, np.nan)\n",
    "train = train.replace(-np.inf, np.nan)\n",
    "\n",
    "test = test.replace(np.inf, np.nan)\n",
    "test = test.replace(-np.inf, np.nan)"
   ]
  },
  {
   "cell_type": "code",
   "execution_count": 24,
   "metadata": {},
   "outputs": [
    {
     "data": {
      "text/plain": [
       "(103, 0)"
      ]
     },
     "execution_count": 24,
     "metadata": {},
     "output_type": "execute_result"
    }
   ],
   "source": [
    "len(numerical), len(categorial)"
   ]
  },
  {
   "cell_type": "code",
   "execution_count": 25,
   "metadata": {},
   "outputs": [],
   "source": [
    "#замена пропусков на 0\n",
    "train = train.fillna(0)\n",
    "test = test.fillna(0)"
   ]
  },
  {
   "cell_type": "markdown",
   "metadata": {},
   "source": [
    "### оценка разделяющей способности признаков по GINI и отбор наиболее значимых"
   ]
  },
  {
   "cell_type": "code",
   "execution_count": 26,
   "metadata": {},
   "outputs": [],
   "source": [
    "scores = calculate_feature_separating_ability(train, target)"
   ]
  },
  {
   "cell_type": "code",
   "execution_count": 27,
   "metadata": {},
   "outputs": [
    {
     "data": {
      "text/plain": [
       "x0_m                                 0.071453\n",
       "x1_secondary / secondary special     0.068214\n",
       "ratio_annuity_to_age                 0.052216\n",
       "childrens                            0.035298\n",
       "x0_Cash                              0.033864\n",
       "                                       ...   \n",
       "external_scoring_rating_2           -0.208180\n",
       "external_scoring_rating_max         -0.250446\n",
       "external_scoring_rating_min         -0.255171\n",
       "external_scoring_rating_nanmedian   -0.281325\n",
       "external_scoring_rating_mean        -0.288431\n",
       "Length: 103, dtype: float64"
      ]
     },
     "execution_count": 27,
     "metadata": {},
     "output_type": "execute_result"
    }
   ],
   "source": [
    "scores"
   ]
  },
  {
   "cell_type": "code",
   "execution_count": 28,
   "metadata": {},
   "outputs": [],
   "source": [
    "feats = []\n",
    "\n",
    "for i, x in enumerate(scores):\n",
    "    if abs(x) > 0.01:\n",
    "        feats.append(scores.index[i])"
   ]
  },
  {
   "cell_type": "code",
   "execution_count": 29,
   "metadata": {},
   "outputs": [
    {
     "data": {
      "text/plain": [
       "(53, 103)"
      ]
     },
     "execution_count": 29,
     "metadata": {},
     "output_type": "execute_result"
    }
   ],
   "source": [
    "len(feats), len(train.columns)"
   ]
  },
  {
   "cell_type": "markdown",
   "metadata": {},
   "source": [
    "### обучение LighGBM c кросс валидацией"
   ]
  },
  {
   "cell_type": "code",
   "execution_count": 32,
   "metadata": {
    "scrolled": true
   },
   "outputs": [
    {
     "name": "stdout",
     "output_type": "stream",
     "text": [
      "Tue Nov  2 14:50:55 2021, Cross-Validation, 110093 rows, 53 cols\n",
      "Fold 1, Valid score = 0.73076\n",
      "Fold 2, Valid score = 0.72515\n",
      "Fold 3, Valid score = 0.72135\n",
      "Fold 4, Valid score = 0.73746\n",
      "Fold 5, Valid score = 0.72109\n",
      "Score by each fold: [0.73076, 0.72515, 0.72135, 0.73746, 0.72109]\n",
      "=================================================================\n",
      "OOF-score = 0.72679\n"
     ]
    }
   ],
   "source": [
    "lgbm_params = {\n",
    "    'boosting_type': 'gbdt',\n",
    "    'n_estimators': 10000,\n",
    "    'learning_rate': 0.05,\n",
    "    'num_leaves': 54,\n",
    "    'max_depth': 10,\n",
    "    'subsample_for_bin': 240000,\n",
    "    'reg_alpha': 0.4,\n",
    "    'reg_lambda': 0.5,\n",
    "    'colsample_bytree': 0.5,\n",
    "    'min_split_gain': 0.02,\n",
    "    'subsample': 0.7,\n",
    "    'is_unbalance': False,\n",
    "    'random_state': 27,\n",
    "    'silent': -1,\n",
    "    'verbose': -1,\n",
    "}\n",
    "\n",
    "cv = KFold(n_splits=5, random_state=27, shuffle=True)\n",
    "\n",
    "lgb_estimators, lgb_oof_preds = lightgbm_cross_validation(\n",
    "    params=lgbm_params, X=train[feats], y=target, cv=cv,\n",
    ")\n",
    "\n",
    "lgb_oof_score = roc_auc_score(\n",
    "    target, lgb_oof_preds\n",
    ")\n",
    "print(f\"OOF-score = {round(lgb_oof_score, 5)}\")"
   ]
  },
  {
   "cell_type": "code",
   "execution_count": 41,
   "metadata": {},
   "outputs": [],
   "source": [
    "#предсказание lgb\n",
    "y_pred_lgb = np.zeros(test.shape[0])\n",
    "\n",
    "for estimator in lgb_estimators:\n",
    "    y_pred_lgb += estimator.predict_proba(test[feats])[:, 1]\n",
    "    \n",
    "y_pred_lgb /= len(estimators)"
   ]
  },
  {
   "cell_type": "code",
   "execution_count": 42,
   "metadata": {},
   "outputs": [
    {
     "data": {
      "text/plain": [
       "array([0.05792781, 0.26173485, 0.16489891, ..., 0.08586763, 0.0142263 ,\n",
       "       0.04528375])"
      ]
     },
     "execution_count": 42,
     "metadata": {},
     "output_type": "execute_result"
    }
   ],
   "source": [
    "y_pred_lgb"
   ]
  },
  {
   "cell_type": "code",
   "execution_count": 46,
   "metadata": {},
   "outputs": [],
   "source": [
    "y_pred = y_pred_lgb"
   ]
  },
  {
   "cell_type": "code",
   "execution_count": 47,
   "metadata": {},
   "outputs": [],
   "source": [
    "#датафрейм с предсказанием\n",
    "df_pred = pd.DataFrame({\n",
    "    \"APPLICATION_NUMBER\": test_id,\n",
    "    \"TARGET\": y_pred\n",
    "})"
   ]
  },
  {
   "cell_type": "code",
   "execution_count": 50,
   "metadata": {},
   "outputs": [
    {
     "name": "stdout",
     "output_type": "stream",
     "text": [
      "File name:  ../data/TchobanouSG_submission_lgb_cb_mean_2021-11-02_15-16-46.csv\n",
      "\n",
      " File saved to disk!\n"
     ]
    }
   ],
   "source": [
    "# сохраняем предсказание в csv\n",
    "now = datetime.now().strftime(\"%Y-%m-%d_%H-%M-%S\")\n",
    "\n",
    "file_name = f'../data/TchobanouSG_submission_lgb_cb_mean_{now}.csv'\n",
    "print('File name: ', file_name)\n",
    "\n",
    "df_pred.to_csv(file_name, index=False, encoding='utf-8')\n",
    "print('\\n File saved to disk!')"
   ]
  },
  {
   "cell_type": "code",
   "execution_count": 51,
   "metadata": {
    "scrolled": true
   },
   "outputs": [
    {
     "name": "stdout",
     "output_type": "stream",
     "text": [
      "Successfully submitted to GeekBrains Competitive Data Analysis"
     ]
    }
   ],
   "source": [
    "#отправляем на Kaggle предсказание\n",
    "!kaggle competitions submit -c geekbrains-competitive-data-analysis \\\n",
    "    -f {file_name} -m {round(lgb_oof_score, 5)} -q"
   ]
  },
  {
   "cell_type": "code",
   "execution_count": 52,
   "metadata": {},
   "outputs": [
    {
     "name": "stdout",
     "output_type": "stream",
     "text": [
      "fileName                                                    date                 description  status    publicScore  privateScore  \r\n",
      "----------------------------------------------------------  -------------------  -----------  --------  -----------  ------------  \r\n",
      "TchobanouSG_submission_lgb_cb_mean_2021-11-02_15-16-46.csv  2021-11-02 12:16:59  0.72679      complete  0.73108      None          \r\n",
      "TchobanouSG_submission_lgb_2021-11-01_23-07-35.csv          2021-11-01 20:07:49  0.72679      complete  0.73200      None          \r\n",
      "TchobanouSG_submission_cb_2021-11-01_23-03-37.csv           2021-11-01 20:03:44  0.72676      complete  0.72811      None          \r\n",
      "TchobanouSG_submission_cb_2021-11-01_22-59-54.csv           2021-11-01 20:00:22  0.72682      complete  0.72779      None          \r\n",
      "TchobanouSG_submission_cb_2021-11-01_22-59-54.csv           2021-11-01 20:00:06  0.72645      complete  0.72779      None          \r\n",
      "TchobanouSG_submission_lgb_2021-11-01_22-54-44.csv          2021-11-01 19:55:28  0.72645      complete  0.73176      None          \r\n",
      "TchobanouSG_submission_lgb_2021-11-01_22-54-44.csv          2021-11-01 19:54:55  0.72682      complete  0.73176      None          \r\n",
      "TchobanouSG_submission_lgb_2021-10-15_23-33-38.csv          2021-10-15 20:33:48  0.72676      complete  0.73200      None          \r\n",
      "TchobanouSG_submission_2021-10-15_23-13-49.csv              2021-10-15 20:14:31  0.72676      complete  0.72811      None          \r\n",
      "TchobanouSG_submission_lgb_2021-10-15_00-17-35.csv          2021-10-14 21:17:41  0.72603      complete  0.71875      None          \r\n",
      "TchobanouSG_submission_lgb_2021-10-14_23-48-48.csv          2021-10-14 20:49:02  0.729        complete  0.71976      None          \r\n",
      "TchobanouSG_submission_lgb_2021-10-14_23-44-32.csv          2021-10-14 20:44:40  0.72669      complete  0.71652      None          \r\n",
      "TchobanouSG_submission_lgb_2021-10-14_23-34-48.csv          2021-10-14 20:34:57  0.72788      complete  0.71936      None          \r\n",
      "TchobanouSG_submission_lgb_2021-10-14_23-31-57.csv          2021-10-14 20:32:04  0.72536      error     None         None          \r\n",
      "TchobanouSG_submission_lgb_2021-10-14_23-22-20.csv          2021-10-14 20:22:37  0.72757      complete  0.71974      None          \r\n",
      "TchobanouSG_submission_2021-10-14_14-17-11.csv              2021-10-14 11:17:18  0.72998      complete  0.71944      None          \r\n",
      "TchobanouSG_submission_2021-10-14_14-10-15.csv              2021-10-14 11:10:23  0.72975      complete  0.71957      None          \r\n",
      "TchobanouSG_submission_2021-10-14_13-35-08.csv              2021-10-14 10:35:16  0.72939      complete  0.71948      None          \r\n",
      "TchobanouSG_submission_2021-10-14_13-24-38.csv              2021-10-14 10:26:25  0.7278       complete  0.71871      None          \r\n",
      "lgb_predictions_2021-10-12_23-09-24.csv                     2021-10-12 20:09:43  0.71747      complete  0.72163      None          \r\n"
     ]
    }
   ],
   "source": [
    "#собственные сабмиты\n",
    "!kaggle competitions submissions -c geekbrains-competitive-data-analysis"
   ]
  },
  {
   "cell_type": "code",
   "execution_count": 36,
   "metadata": {},
   "outputs": [
    {
     "name": "stdout",
     "output_type": "stream",
     "text": [
      " teamId  teamName                          submissionDate       score    \r\n",
      "-------  --------------------------------  -------------------  -------  \r\n",
      "6314536  Andrey Korzhun [поток 3]          2021-04-28 09:44:21  0.73682  \r\n",
      "5864347  Rostislav Ilyk [поток 2]          2021-05-11 08:35:03  0.73648  \r\n",
      "7533793  Anokiro [поток 4]                 2021-11-01 18:51:56  0.73600  \r\n",
      "6473429  Vadim Pavlov [поток 3]            2021-05-03 10:30:21  0.73592  \r\n",
      "6828867  Alexey Tankov [поток 4]           2021-11-02 11:24:05  0.73546  \r\n",
      "6521064  Ainar (поток 3)                   2021-04-11 15:42:33  0.73479  \r\n",
      "6476602  Irina Yakupova [поток 3]          2021-05-04 20:44:32  0.73468  \r\n",
      "6547930  Denis Akatov [поток 3]            2021-04-27 21:39:41  0.73457  \r\n",
      "5874170  Vasilii Sitdikov  [поток 2]       2020-12-19 22:50:14  0.73453  \r\n",
      "7555087  Natalia Lapteva                   2021-10-18 10:29:28  0.73450  \r\n",
      "5500634  Aleksey Ushakov                   2020-10-05 22:50:09  0.73402  \r\n",
      "6579938  Eugene Shenk  [поток 3]           2021-04-25 00:02:49  0.73370  \r\n",
      "5852851  Daria Lyutova [поток 2]           2020-12-23 17:01:32  0.73360  \r\n",
      "5548434  Виталий Гладышев [поток 1]        2020-10-05 06:24:08  0.73315  \r\n",
      "5898063  Pavel Tomsha [поток 2]            2020-12-09 08:07:09  0.73310  \r\n",
      "7557027  Vlad Smirnov [поток 4]            2021-10-18 19:53:27  0.73305  \r\n",
      "5507782  Sergey Varyukhin [поток 1]        2020-10-03 09:46:33  0.73300  \r\n",
      "6476359  Dmitry Z [поток 3]                2021-04-24 08:36:46  0.73299  \r\n",
      "5903181  AlexGreen[поток 2]                2020-12-25 20:52:42  0.73296  \r\n",
      "7515320  no_im_fine                        2021-11-01 23:14:52  0.73290  \r\n",
      "7547392  Sorokin Yegor [поток 4]           2021-11-02 11:58:05  0.73279  \r\n",
      "6365883  Alexander Kalinichenko [поток 3]  2021-04-26 13:17:38  0.73278  \r\n",
      "5855750  Tefi007(поток 2)                  2020-12-19 20:12:19  0.73278  \r\n",
      "5515732  Ian Vlasov [поток 1]              2020-10-06 16:10:41  0.73259  \r\n",
      "5555547  Roman Semenov [поток 1]           2020-10-05 19:24:27  0.73252  \r\n",
      "7577293  Dmitrii Rechimciuc[4 поток]       2021-11-01 16:33:09  0.73249  \r\n",
      "7547407  Anatoly Lyutov [поток 4]          2021-10-26 13:21:37  0.73244  \r\n",
      "5872293  Vitaly [поток 4]                  2021-11-01 16:24:43  0.73240  \r\n",
      "5541369  VictorNovikov                     2020-10-24 18:06:11  0.73238  \r\n",
      "6605290  Igor Sokovnin [Поток 3]           2021-04-23 14:44:53  0.73233  \r\n",
      "6472331  AleksandrBudzin [поток 3]         2021-04-25 01:53:48  0.73213  \r\n",
      "7579515  Andrey Ukladnikov (4 поток)       2021-11-02 11:41:59  0.73213  \r\n",
      "7547665  Lana [поток 4]                    2021-11-01 20:07:49  0.73200  \r\n",
      "6627084  baseline 2                        2021-04-12 18:42:05  0.73199  \r\n",
      "6627085  submit2.csv                       2021-04-12 18:42:05  0.73199  \r\n",
      "7557300  A999                              2021-11-02 08:55:59  0.73132  \r\n",
      "5951041  Исмаил [поток 2]                  2020-12-13 21:00:59  0.73112  \r\n",
      "6349078  Andrey K [поток 3]                2021-04-26 21:04:59  0.73083  \r\n",
      "7588322  Olga Gurina (поток 4)             2021-11-01 08:14:51  0.73072  \r\n",
      "5497789  Yury Nikiforov [поток 1]          2020-10-05 17:10:38  0.73026  \r\n",
      "5852848  Vladimir Kaldin [поток_2]         2020-12-23 06:28:53  0.72982  \r\n",
      "7570221  Max_ AZ[поток 4]                  2021-10-24 11:29:04  0.72972  \r\n",
      "5554074  Viktor Vashchenkov [поток 1]      2020-10-04 12:36:24  0.72955  \r\n",
      "7547412  Pavel Babalich [поток 4]          2021-11-02 12:07:20  0.72939  \r\n",
      "5525787  Sergei Barinov [поток 1]          2020-10-08 13:19:59  0.72902  \r\n",
      "5905390  Anna Mark [поток 2]               2020-12-17 20:28:09  0.72867  \r\n",
      "5537409  Dmitry(поток 1)                   2020-10-06 07:10:16  0.72862  \r\n",
      "7582517  Alex                              2021-11-02 04:15:05  0.72767  \r\n",
      "6470764  Dvk2002                           2021-04-22 01:58:58  0.72746  \r\n",
      "5853196  Yanina Kutovaya [поток 2]         2020-12-16 19:19:12  0.72732  \r\n"
     ]
    }
   ],
   "source": [
    "# LeaderBoard\n",
    "!kaggle competitions leaderboard geekbrains-competitive-data-analysis -s"
   ]
  },
  {
   "cell_type": "code",
   "execution_count": null,
   "metadata": {},
   "outputs": [],
   "source": []
  }
 ],
 "metadata": {
  "kernelspec": {
   "display_name": "Python 3",
   "language": "python",
   "name": "python3"
  },
  "language_info": {
   "codemirror_mode": {
    "name": "ipython",
    "version": 3
   },
   "file_extension": ".py",
   "mimetype": "text/x-python",
   "name": "python",
   "nbconvert_exporter": "python",
   "pygments_lexer": "ipython3",
   "version": "3.8.2"
  }
 },
 "nbformat": 4,
 "nbformat_minor": 4
}
